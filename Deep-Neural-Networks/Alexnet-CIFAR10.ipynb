{
 "cells": [
  {
   "cell_type": "markdown",
   "id": "bc78dd4f-6079-4752-a2ae-befe2e8344f1",
   "metadata": {},
   "source": [
    "## Training AlexNet on CIFAR-10 dataset \n",
    "- **[Full Architecture Explanation](https://github.com/sammmeeeer/From-LR-Transformers/blob/main/Deep-Neural-Networks/AlexNet.ipynb)**"
   ]
  },
  {
   "cell_type": "code",
   "execution_count": 7,
   "id": "5fe3418b-49b2-4c72-b797-88da5cd6f12c",
   "metadata": {},
   "outputs": [],
   "source": [
    "import torch \n",
    "import torch.nn as nn \n",
    "import torch.optim as optim \n",
    "import time \n",
    "import torchvision \n",
    "import torchvision.transforms as transforms\n",
    "from torch.utils.data import DataLoader \n",
    "import numpy as np \n",
    "from tqdm import tqdm "
   ]
  },
  {
   "cell_type": "code",
   "execution_count": 8,
   "id": "422ce8bc-f4c3-48e0-97fa-32245c92624f",
   "metadata": {},
   "outputs": [],
   "source": [
    "# The AlexNet Architecture customised for CIFAR-10 \n",
    "# Will reduce conv layers 5 to 3 for faster training\n",
    "# Also smaller kernel sizes (3 x 3)\n",
    "\n",
    "# Training optimizations \n",
    " # Adam optimizer (faster convergence)\n",
    " # 10 epochs\n",
    " # Larger batch_size = 256\n",
    " # Will remove Response Layer Norm \n",
    "\n",
    "\n",
    "class SimpleAlexNet(nn.Module):\n",
    "    def __init__(self):\n",
    "        super(SimpleAlexNet, self).__init__()\n",
    "        \n",
    "        self.features = nn.Sequential(\n",
    "            # Simplified conv layers\n",
    "            nn.Conv2d(3, 64, kernel_size=3, padding=1),\n",
    "            nn.ReLU(inplace=True),\n",
    "            nn.MaxPool2d(kernel_size=2, stride=2),\n",
    "            \n",
    "            nn.Conv2d(64, 192, kernel_size=3, padding=1),\n",
    "            nn.ReLU(inplace=True),\n",
    "            nn.MaxPool2d(kernel_size=2, stride=2),\n",
    "            \n",
    "            nn.Conv2d(192, 256, kernel_size=3, padding=1),\n",
    "            nn.ReLU(inplace=True),\n",
    "            nn.MaxPool2d(kernel_size=2, stride=2)\n",
    "        )\n",
    "        \n",
    "        self.classifier = nn.Sequential(\n",
    "            nn.Dropout(0.5),\n",
    "            nn.Linear(256 * 4 * 4, 512),\n",
    "            nn.ReLU(inplace=True),\n",
    "            nn.Linear(512, 10)\n",
    "        )\n",
    "\n",
    "    def forward(self, x):\n",
    "        x = self.features(x)\n",
    "        x = torch.flatten(x, 1)\n",
    "        x = self.classifier(x)\n",
    "        return x\n",
    "         "
   ]
  },
  {
   "cell_type": "code",
   "execution_count": 9,
   "id": "b2ed89b5-c689-49b0-b4bd-94039eda10ce",
   "metadata": {},
   "outputs": [
    {
     "name": "stdout",
     "output_type": "stream",
     "text": [
      "Downloading https://www.cs.toronto.edu/~kriz/cifar-10-python.tar.gz to ./data/cifar-10-python.tar.gz\n"
     ]
    },
    {
     "name": "stderr",
     "output_type": "stream",
     "text": [
      "100%|█████████████████████████████████████████████████| 170498071/170498071 [02:24<00:00, 1180567.12it/s]\n"
     ]
    },
    {
     "name": "stdout",
     "output_type": "stream",
     "text": [
      "Extracting ./data/cifar-10-python.tar.gz to ./data\n",
      "Files already downloaded and verified\n",
      "Training started...\n"
     ]
    },
    {
     "name": "stderr",
     "output_type": "stream",
     "text": [
      "Epoch 1/10: 100%|██████████████████████████████| 196/196 [00:12<00:00, 15.97it/s, loss=0.00594, acc=44.6]\n",
      "Epoch 2/10: 100%|██████████████████████████████| 196/196 [00:11<00:00, 16.64it/s, loss=0.00425, acc=61.2]\n",
      "Epoch 3/10: 100%|███████████████████████████████| 196/196 [00:12<00:00, 15.92it/s, loss=0.0035, acc=68.4]\n",
      "Epoch 4/10: 100%|██████████████████████████████| 196/196 [00:10<00:00, 17.99it/s, loss=0.00304, acc=72.5]\n",
      "Epoch 5/10: 100%|██████████████████████████████| 196/196 [00:12<00:00, 15.42it/s, loss=0.00267, acc=76.1]\n",
      "Epoch 6/10: 100%|██████████████████████████████| 196/196 [00:12<00:00, 15.81it/s, loss=0.00242, acc=78.2]\n",
      "Epoch 7/10: 100%|██████████████████████████████| 196/196 [00:11<00:00, 16.83it/s, loss=0.00215, acc=80.7]\n",
      "Epoch 8/10: 100%|██████████████████████████████| 196/196 [00:11<00:00, 16.77it/s, loss=0.00192, acc=82.7]\n",
      "Epoch 9/10: 100%|██████████████████████████████| 196/196 [00:11<00:00, 16.77it/s, loss=0.00177, acc=84.2]\n",
      "Epoch 10/10: 100%|█████████████████████████████| 196/196 [00:11<00:00, 16.53it/s, loss=0.00159, acc=85.7]\n"
     ]
    },
    {
     "name": "stdout",
     "output_type": "stream",
     "text": [
      "\n",
      "Accuracy on test set: 80.38%\n"
     ]
    }
   ],
   "source": [
    "def train():\n",
    "    # Device configuration\n",
    "    device = torch.device('cuda' if torch.cuda.is_available() else 'cpu')\n",
    "    \n",
    "    # Simple transforms\n",
    "    transform = transforms.Compose([\n",
    "        transforms.ToTensor(),\n",
    "        transforms.Normalize((0.5, 0.5, 0.5), (0.5, 0.5, 0.5))\n",
    "    ])\n",
    "    \n",
    "    # Load CIFAR-10\n",
    "    trainset = torchvision.datasets.CIFAR10(root='./data', train=True,\n",
    "                                          download=True, transform=transform)\n",
    "    trainloader = DataLoader(trainset, batch_size=256, shuffle=True, num_workers=2)\n",
    "    \n",
    "    testset = torchvision.datasets.CIFAR10(root='./data', train=False,\n",
    "                                         download=True, transform=transform)\n",
    "    testloader = DataLoader(testset, batch_size=256, shuffle=False, num_workers=2)\n",
    "    \n",
    "    # Model, loss and optimizer\n",
    "    model = SimpleAlexNet().to(device)\n",
    "    criterion = nn.CrossEntropyLoss()\n",
    "    optimizer = torch.optim.Adam(model.parameters(), lr=0.001)\n",
    "    \n",
    "    # Training loop\n",
    "    num_epochs = 10\n",
    "    print(\"Training started...\")\n",
    "    \n",
    "    for epoch in range(num_epochs):\n",
    "        model.train()\n",
    "        running_loss = 0.0\n",
    "        correct = 0\n",
    "        total = 0\n",
    "        \n",
    "        pbar = tqdm(trainloader, desc=f'Epoch {epoch+1}/{num_epochs}')\n",
    "        for images, labels in pbar:\n",
    "            images, labels = images.to(device), labels.to(device)\n",
    "            \n",
    "            optimizer.zero_grad()\n",
    "            outputs = model(images)\n",
    "            loss = criterion(outputs, labels)\n",
    "            loss.backward()\n",
    "            optimizer.step()\n",
    "            \n",
    "            running_loss += loss.item()\n",
    "            _, predicted = outputs.max(1)\n",
    "            total += labels.size(0)\n",
    "            correct += predicted.eq(labels).sum().item()\n",
    "            \n",
    "            pbar.set_postfix({\n",
    "                'loss': running_loss/total,\n",
    "                'acc': 100.*correct/total\n",
    "            })\n",
    "    \n",
    "    # Test the model\n",
    "    model.eval()\n",
    "    correct = 0\n",
    "    total = 0\n",
    "    \n",
    "    with torch.no_grad():\n",
    "        for images, labels in testloader:\n",
    "            images, labels = images.to(device), labels.to(device)\n",
    "            outputs = model(images)\n",
    "            _, predicted = outputs.max(1)\n",
    "            total += labels.size(0)\n",
    "            correct += predicted.eq(labels).sum().item()\n",
    "    \n",
    "    acc = 100 * correct / total\n",
    "    print(f'\\nAccuracy on test set: {acc:.2f}%')\n",
    "    \n",
    "    return model\n",
    "\n",
    "if __name__ == '__main__':\n",
    "    train()"
   ]
  },
  {
   "cell_type": "code",
   "execution_count": null,
   "id": "c81294ac-51e2-475a-9434-8626c32f1e90",
   "metadata": {},
   "outputs": [],
   "source": []
  }
 ],
 "metadata": {
  "kernelspec": {
   "display_name": "Python 3 (ipykernel)",
   "language": "python",
   "name": "python3"
  },
  "language_info": {
   "codemirror_mode": {
    "name": "ipython",
    "version": 3
   },
   "file_extension": ".py",
   "mimetype": "text/x-python",
   "name": "python",
   "nbconvert_exporter": "python",
   "pygments_lexer": "ipython3",
   "version": "3.10.13"
  }
 },
 "nbformat": 4,
 "nbformat_minor": 5
}
