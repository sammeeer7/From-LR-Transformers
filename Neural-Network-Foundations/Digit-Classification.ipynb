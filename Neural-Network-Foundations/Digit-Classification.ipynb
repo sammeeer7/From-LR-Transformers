{
 "cells": [
  {
   "cell_type": "markdown",
   "id": "fee7921f-335f-4b08-a816-587352710705",
   "metadata": {
    "editable": true,
    "slideshow": {
     "slide_type": ""
    },
    "tags": []
   },
   "source": [
    "## Handwritten Numbers Classification using NN\n",
    "### Architecture\n",
    "- Input Layer -> (28*28, 784)\n",
    "- fc1 -> (784, 512, LeakyReLU)\n",
    "- bn1 -> Batch Normalization\n",
    "- fc2 -> (512, 256, LeakyReLU)\n",
    "- bn2 -> Batch Normalization\n",
    "- fc3 -> (256, 128, LeakyReLU)\n",
    "- bn3 -> Batch Normalization\n",
    "- fc4 -> (128, 10)\n",
    "- Dropout Rate: 0.3 (After Each Hidden Layer)"
   ]
  },
  {
   "cell_type": "code",
   "execution_count": 3,
   "id": "798e232f-62eb-49c7-85a9-ade17ec14801",
   "metadata": {},
   "outputs": [],
   "source": [
    "import torch \n",
    "import torch.nn as nn \n",
    "import torch.nn.functional as F \n",
    "import torch.optim as optim \n",
    "from torchvision import datasets, transforms \n",
    "import matplotlib.pyplot as plt "
   ]
  },
  {
   "cell_type": "code",
   "execution_count": 7,
   "id": "8f8d8226-014f-4828-a99e-b88b6a635da4",
   "metadata": {},
   "outputs": [],
   "source": [
    "# Hyperparams \n",
    "batch_size = 64\n",
    "num_epochs = 10 \n",
    "learning_rate = 0.001 \n",
    "\n",
    "transform = transforms.Compose([\n",
    "    transforms.ToTensor(),\n",
    "    transforms.Normalize((0.1307,), (0.3081))\n",
    "])\n",
    "\n",
    "# Load MNIST Dataset \n",
    "train_dataset = datasets.MNIST(root='.', train=True, download=True, transform=transform)\n",
    "test_dataset = datasets.MNIST(root='.', train=False, download=True, transform=transform)\n",
    "\n",
    "train_loader = torch.utils.data.DataLoader(train_dataset, batch_size=batch_size, shuffle=True, num_workers=2)\n",
    "test_loader = torch.utils.data.DataLoader(test_dataset, batch_size=batch_size, shuffle=False, num_workers=2)"
   ]
  },
  {
   "cell_type": "code",
   "execution_count": 10,
   "id": "7d9b2b20-bf6c-4c38-a7a9-5aee39e66592",
   "metadata": {},
   "outputs": [],
   "source": [
    "class Net(nn.Module):\n",
    "    def __init__(self):\n",
    "        super(Net, self).__init__()\n",
    "        self.fc1 = nn.Linear(28*28, 512)\n",
    "        self.bn1 = nn.BatchNorm1d(512) # Batch normalization\n",
    "        self.fc2 = nn.Linear(512, 256)\n",
    "        self.bn2 = nn.BatchNorm1d(256)\n",
    "        self.fc3 = nn.Linear(256, 128)\n",
    "        self.bn3 = nn.BatchNorm1d(128)\n",
    "        self.fc4 = nn.Linear(128, 10)\n",
    "        self.dropout = nn.Dropout(0.3) # Dropout for regularization \n",
    "\n",
    "    def forward(self, x):\n",
    "        x = x.view(-1, 28*28)\n",
    "        x = F.leaky_relu(self.bn1(self.fc1(x)))\n",
    "        x = self.dropout(x)\n",
    "        x = F.leaky_relu(self.bn2(self.fc2(x)))\n",
    "        x = self.dropout(x)\n",
    "        x = F.leaky_relu(self.bn3(self.fc3(x)))\n",
    "        x = self.dropout(x)\n",
    "        x = self.fc4(x)\n",
    "        return x \n",
    "\n",
    "device = torch.device(\"cuda\" if torch.cuda.is_available() else \"cpu\")\n",
    "\n",
    "# Initializing model, loss function, optimizer, and learning_rate \n",
    "model = Net().to(device)\n",
    "criterion = nn.CrossEntropyLoss()\n",
    "optimizer = optim.Adam(model.parameters(), lr=learning_rate)\n",
    "scheduler = optim.lr_scheduler.ReduceLROnPlateau(optimizer, mode='min', factor=0.1, patience=3)\n"
   ]
  },
  {
   "cell_type": "code",
   "execution_count": 11,
   "id": "0851faf7-0ff5-467b-bc80-d456ccf82453",
   "metadata": {},
   "outputs": [],
   "source": [
    "def accuracy(outputs, labels):\n",
    "    _, preds = torch.max(outputs, 1)\n",
    "    return torch.sum(preds == labels).item() / len(labels)\n",
    "\n",
    "#Training function\n",
    "def train(model, device, train_loader, criterion, optimizer, epoch):\n",
    "    model.train()\n",
    "    running_loss, running_acc = 0.0, 0.0\n",
    "    for i, (inputs, labels) in enumerate(train_loader):\n",
    "        inputs, labels = inputs.to(device), labels.to(device)\n",
    "\n",
    "        optimizer.zero_grad()\n",
    "        outputs = model(inputs)\n",
    "        loss = criterion(outputs, labels)\n",
    "        loss.backward()\n",
    "        optimizer.step()\n",
    "\n",
    "        running_loss += loss.item()\n",
    "        running_acc += accuracy(outputs, labels)\n",
    "\n",
    "        if(i + 1) % 200 == 0:\n",
    "            print(f'Epoch {epoch}, Batch {i+1}, Loss: {running_loss/200:.4f}, Accuracy: {running_acc/200:.4f}')\n",
    "            running_loss, running_acc = 0.0, 0.0 "
   ]
  },
  {
   "cell_type": "code",
   "execution_count": 12,
   "id": "8dec5a1c-2b34-4ad0-99b5-33ab6aa31768",
   "metadata": {},
   "outputs": [],
   "source": [
    "# Testing function \n",
    "def test(model, device, test_loader, criterion):\n",
    "    model.eval()\n",
    "    test_loss, test_acc = 0.0, 0.0 \n",
    "    with torch.no_grad():\n",
    "        for inputs, labels in test_loader:\n",
    "            inputs, labels = inputs.to(device), labels.to(device)\n",
    "            outputs = model(inputs)\n",
    "            loss = criterion(outputs, labels)\n",
    "            test_loss += loss.item()\n",
    "            test_acc += accuracy(outputs, labels)\n",
    "\n",
    "\n",
    "    avg_loss, avg_acc = test_loss / len(test_loader), test_acc / len(test_loader)\n",
    "    print(f'Test Loss: {avg_loss:.4f}, Test Accuracy: {avg_acc:.4f}')\n",
    "    scheduler.step(avg_loss)"
   ]
  },
  {
   "cell_type": "code",
   "execution_count": 13,
   "id": "991823c6-418f-44ec-9b3d-41aaf9ec4543",
   "metadata": {},
   "outputs": [
    {
     "name": "stdout",
     "output_type": "stream",
     "text": [
      "Epoch 1, Batch 200, Loss: 0.5388, Accuracy: 0.8605\n",
      "Epoch 1, Batch 400, Loss: 0.2718, Accuracy: 0.9231\n",
      "Epoch 1, Batch 600, Loss: 0.2137, Accuracy: 0.9366\n",
      "Epoch 1, Batch 800, Loss: 0.1994, Accuracy: 0.9409\n",
      "Test Loss: 0.1061, Test Accuracy: 0.9666\n",
      "Epoch 2, Batch 200, Loss: 0.1585, Accuracy: 0.9504\n",
      "Epoch 2, Batch 400, Loss: 0.1523, Accuracy: 0.9549\n",
      "Epoch 2, Batch 600, Loss: 0.1540, Accuracy: 0.9545\n",
      "Epoch 2, Batch 800, Loss: 0.1428, Accuracy: 0.9564\n",
      "Test Loss: 0.0758, Test Accuracy: 0.9770\n",
      "Epoch 3, Batch 200, Loss: 0.1178, Accuracy: 0.9646\n",
      "Epoch 3, Batch 400, Loss: 0.1193, Accuracy: 0.9649\n",
      "Epoch 3, Batch 600, Loss: 0.1114, Accuracy: 0.9658\n",
      "Epoch 3, Batch 800, Loss: 0.1073, Accuracy: 0.9663\n",
      "Test Loss: 0.0648, Test Accuracy: 0.9787\n",
      "Epoch 4, Batch 200, Loss: 0.1010, Accuracy: 0.9681\n",
      "Epoch 4, Batch 400, Loss: 0.1039, Accuracy: 0.9687\n",
      "Epoch 4, Batch 600, Loss: 0.1085, Accuracy: 0.9652\n",
      "Epoch 4, Batch 800, Loss: 0.0959, Accuracy: 0.9709\n",
      "Test Loss: 0.0694, Test Accuracy: 0.9770\n",
      "Epoch 5, Batch 200, Loss: 0.0876, Accuracy: 0.9721\n",
      "Epoch 5, Batch 400, Loss: 0.0924, Accuracy: 0.9703\n",
      "Epoch 5, Batch 600, Loss: 0.0854, Accuracy: 0.9731\n",
      "Epoch 5, Batch 800, Loss: 0.0899, Accuracy: 0.9728\n",
      "Test Loss: 0.0640, Test Accuracy: 0.9794\n",
      "Epoch 6, Batch 200, Loss: 0.0834, Accuracy: 0.9740\n",
      "Epoch 6, Batch 400, Loss: 0.0800, Accuracy: 0.9747\n",
      "Epoch 6, Batch 600, Loss: 0.0735, Accuracy: 0.9780\n",
      "Epoch 6, Batch 800, Loss: 0.0845, Accuracy: 0.9722\n",
      "Test Loss: 0.0603, Test Accuracy: 0.9800\n",
      "Epoch 7, Batch 200, Loss: 0.0660, Accuracy: 0.9791\n",
      "Epoch 7, Batch 400, Loss: 0.0651, Accuracy: 0.9798\n",
      "Epoch 7, Batch 600, Loss: 0.0780, Accuracy: 0.9751\n",
      "Epoch 7, Batch 800, Loss: 0.0749, Accuracy: 0.9762\n",
      "Test Loss: 0.0602, Test Accuracy: 0.9814\n",
      "Epoch 8, Batch 200, Loss: 0.0644, Accuracy: 0.9802\n",
      "Epoch 8, Batch 400, Loss: 0.0691, Accuracy: 0.9788\n",
      "Epoch 8, Batch 600, Loss: 0.0611, Accuracy: 0.9805\n",
      "Epoch 8, Batch 800, Loss: 0.0622, Accuracy: 0.9794\n",
      "Test Loss: 0.0540, Test Accuracy: 0.9839\n",
      "Epoch 9, Batch 200, Loss: 0.0596, Accuracy: 0.9809\n",
      "Epoch 9, Batch 400, Loss: 0.0646, Accuracy: 0.9809\n",
      "Epoch 9, Batch 600, Loss: 0.0607, Accuracy: 0.9800\n",
      "Epoch 9, Batch 800, Loss: 0.0653, Accuracy: 0.9783\n",
      "Test Loss: 0.0506, Test Accuracy: 0.9839\n",
      "Epoch 10, Batch 200, Loss: 0.0494, Accuracy: 0.9841\n",
      "Epoch 10, Batch 400, Loss: 0.0518, Accuracy: 0.9838\n",
      "Epoch 10, Batch 600, Loss: 0.0567, Accuracy: 0.9814\n",
      "Epoch 10, Batch 800, Loss: 0.0621, Accuracy: 0.9802\n",
      "Test Loss: 0.0506, Test Accuracy: 0.9844\n"
     ]
    }
   ],
   "source": [
    "# Train and test Loop \n",
    "for epoch in range(1, num_epochs + 1):\n",
    "    train(model, device, train_loader, criterion, optimizer, epoch)\n",
    "    test(model, device, test_loader, criterion)"
   ]
  },
  {
   "cell_type": "code",
   "execution_count": 14,
   "id": "3be45b81-a8ce-410a-9cab-e90de81f460f",
   "metadata": {},
   "outputs": [
    {
     "data": {
      "image/png": "[encoded data removed]",
      "text/plain": [
       "<Figure size 800x800 with 9 Axes>"
      ]
     },
     "metadata": {},
     "output_type": "display_data"
    }
   ],
   "source": [
    "# Visualizing the predictions \n",
    "def visualize_predictions():\n",
    "    model.eval()\n",
    "    samples, labels = next(iter(test_loader))\n",
    "    samples = samples.to(device)\n",
    "    outputs = model(samples)\n",
    "    _, preds = torch.max(outputs, 1)\n",
    "    \n",
    "    fig, axes = plt.subplots(3, 3, figsize=(8, 8))\n",
    "    for i, ax in enumerate(axes.ravel()):\n",
    "        ax.imshow(samples[i].cpu().numpy().squeeze(), cmap='gray')\n",
    "        ax.set_title(f'Label: {labels[i]}, Pred: {preds[i]}')\n",
    "        ax.axis('off')\n",
    "    plt.show()\n",
    "\n",
    "visualize_predictions()"
   ]
  },
  {
   "cell_type": "code",
   "execution_count": null,
   "id": "afa7d58e-08e4-4f68-a7ed-1053c4deb433",
   "metadata": {},
   "outputs": [],
   "source": []
  }
 ],
 "metadata": {
  "kernelspec": {
   "display_name": "Python 3 (ipykernel)",
   "language": "python",
   "name": "python3"
  },
  "language_info": {
   "codemirror_mode": {
    "name": "ipython",
    "version": 3
   },
   "file_extension": ".py",
   "mimetype": "text/x-python",
   "name": "python",
   "nbconvert_exporter": "python",
   "pygments_lexer": "ipython3",
   "version": "3.10.13"
  }
 },
 "nbformat": 4,
 "nbformat_minor": 5
}
