{
 "cells": [
  {
   "cell_type": "markdown",
   "id": "affda139-05e6-4687-a81c-62bb3af04ff0",
   "metadata": {},
   "source": [
    "## Feed-Forward Neural Network with One Hidden Layer "
   ]
  },
  {
   "cell_type": "code",
   "execution_count": 1,
   "id": "d6dd1c0a-1a99-4e6d-888a-685519e14c91",
   "metadata": {},
   "outputs": [],
   "source": [
    "import numpy as np "
   ]
  },
  {
   "cell_type": "code",
   "execution_count": 12,
   "id": "5cb2ab28-6e75-4ff1-9d4f-caf2c9756f48",
   "metadata": {},
   "outputs": [],
   "source": [
    "class FFNeuralNetwork: \n",
    "    def __init__(self, inp_size, op_size, hidden_size, lr=0.1):\n",
    "        self.learning_rate = lr\n",
    "\n",
    "        self.W1 = np.random.randn(inp_size, hidden_size) * np.sqrt(2 / inp_size)\n",
    "        self.b1 = np.zeros((1, hidden_size))\n",
    "        self.W2 = np.random.randn(hidden_size, op_size) * np.sqrt(2 / hidden_size)\n",
    "        self.b2 = np.zeros((1, op_size))\n",
    "\n",
    "    def sigmoid(self, x):\n",
    "        return 1.0 / (1.0 + np.exp(-x))\n",
    "\n",
    "    def sigmoid_derivative(self, x):\n",
    "        return x * (1 - x)\n",
    "\n",
    "    def forward(self, X):\n",
    "        # Hidden layer \n",
    "        self.z1 = np.dot(X, self.W1) + self.b1\n",
    "        self.a1 = self.sigmoid(self.z1)\n",
    "\n",
    "        # Outer layer \n",
    "        self.z2 = np.dot(self.a1, self.W2) + self.b2 \n",
    "        self.a2 = self.sigmoid(self.z2)\n",
    "\n",
    "        return self.a2\n",
    "\n",
    "\n",
    "    def backward(self, X, y, output):\n",
    "        # Calculate error\n",
    "        error = y - output\n",
    "\n",
    "        # Gradients for the output layer\n",
    "        d_output = error * self.sigmoid_derivative(output)\n",
    "        d_W2 = np.dot(self.a1.T, d_output)\n",
    "        d_b2 = np.sum(d_output, axis=0, keepdims=True)\n",
    "\n",
    "        # Gradients for the hidden layer\n",
    "        d_hidden = np.dot(d_output, self.W2.T) * self.sigmoid_derivative(self.a1)\n",
    "        d_W1 = np.dot(X.T, d_hidden)\n",
    "        d_b1 = np.sum(d_hidden, axis=0, keepdims=True)\n",
    "\n",
    "        # Update weights and biases\n",
    "        self.W2 += self.learning_rate * d_W2\n",
    "        self.b2 += self.learning_rate * d_b2\n",
    "        self.W1 += self.learning_rate * d_W1\n",
    "        self.b1 += self.learning_rate * d_b1\n",
    "\n",
    "    def train(self, X, y, epochs, verbose=True):\n",
    "            for epoch in range(epochs):\n",
    "                # Forward pass\n",
    "                output = self.forward(X)\n",
    "                #Backward pass\n",
    "                self.backward(X, y, output)\n",
    "\n",
    "                if verbose and epoch % 1000 == 0: \n",
    "                    loss = np.mean(np.square(y - output))\n",
    "                    print(f'Epoch {epoch}, Loss: {loss:.6f}')\n",
    "\n",
    "    def predict(self, X):\n",
    "            return self.forward(X)\n",
    "\n",
    "    def calculate_accuracy(self, X, y):\n",
    "            predictions = (self.predict(X) > 0.5).astype(int)\n",
    "            accuracy = np.mean(predictions == y) * 100 \n",
    "            return accuracy "
   ]
  },
  {
   "cell_type": "markdown",
   "id": "11dc2939-088e-4abf-aa85-c80deb04f7ec",
   "metadata": {},
   "source": [
    "## XOR Problem "
   ]
  },
  {
   "cell_type": "code",
   "execution_count": 13,
   "id": "9c539bad-ecfa-464a-84a6-ecf90c5b1056",
   "metadata": {},
   "outputs": [],
   "source": [
    "X = np.array([[0, 1], [0, 1], [1, 0], [1, 1]])\n",
    "y = np.array([[0], [1], [1], [0]])"
   ]
  },
  {
   "cell_type": "code",
   "execution_count": 14,
   "id": "a9fd099a-31d3-4ec2-aa0d-b50d5daa56b6",
   "metadata": {},
   "outputs": [],
   "source": [
    "nn = FFNeuralNetwork(inp_size=2, hidden_size=4, op_size=1, lr=0.1)"
   ]
  },
  {
   "cell_type": "code",
   "execution_count": 18,
   "id": "84907160-83f2-41e5-be2c-3e79a5031c5c",
   "metadata": {},
   "outputs": [
    {
     "name": "stdout",
     "output_type": "stream",
     "text": [
      "Epoch 0, Loss: 0.175311\n"
     ]
    }
   ],
   "source": [
    "nn.train(X, y, epochs=500)"
   ]
  },
  {
   "cell_type": "code",
   "execution_count": 16,
   "id": "e9b22a71-b346-4366-9c52-da643248b87e",
   "metadata": {},
   "outputs": [
    {
     "name": "stdout",
     "output_type": "stream",
     "text": [
      "Predictions: \n",
      " [[0.42050056]\n",
      " [0.42050056]\n",
      " [0.75066646]\n",
      " [0.35557835]]\n"
     ]
    }
   ],
   "source": [
    "predictions = nn.predict(X)\n",
    "print('Predictions: \\n', predictions)"
   ]
  },
  {
   "cell_type": "code",
   "execution_count": 17,
   "id": "ae71d933-c324-4ccd-816d-97d2a48b1608",
   "metadata": {},
   "outputs": [
    {
     "name": "stdout",
     "output_type": "stream",
     "text": [
      "Accuracy: 75.00%\n"
     ]
    }
   ],
   "source": [
    "accuracy = nn.calculate_accuracy(X, y)\n",
    "print(f\"Accuracy: {accuracy:.2f}%\")"
   ]
  },
  {
   "cell_type": "code",
   "execution_count": null,
   "id": "a7abd082-e6fe-40e8-8298-757712e015f8",
   "metadata": {},
   "outputs": [],
   "source": []
  }
 ],
 "metadata": {
  "kernelspec": {
   "display_name": "Python 3 (ipykernel)",
   "language": "python",
   "name": "python3"
  },
  "language_info": {
   "codemirror_mode": {
    "name": "ipython",
    "version": 3
   },
   "file_extension": ".py",
   "mimetype": "text/x-python",
   "name": "python",
   "nbconvert_exporter": "python",
   "pygments_lexer": "ipython3",
   "version": "3.10.13"
  }
 },
 "nbformat": 4,
 "nbformat_minor": 5
}
