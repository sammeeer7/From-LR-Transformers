{
 "cells": [
  {
   "cell_type": "markdown",
   "id": "77ebfb7a-25a4-4caf-b886-6fa1f3386d89",
   "metadata": {},
   "source": [
    "## L1 and L2 Regularization\n",
    "---\n",
    "- L1 and L2 Regularization are one of many regularization techniques to address over-fitting and feature selection.\n",
    "---\n",
    "**L1 Regularization**\n",
    "- A regression model that uses L1 Regularization is called **Lasso Regression**.\n",
    "- Lasso Regression (Least Absolute Shrinkage and Selection Operator) adds \"absolute value of magnitude\" of coefficients as penalty term to the loss function.\n",
    "- Encourages sparsity in the model by driving some coefficients to zero, effectively performing feature selection.\n",
    "- **Formula**:\n",
    "$$\n",
    "\\text{Loss} + \\lambda \\sum_{i=1}^{n} |w_i|\n",
    "$$\n",
    "- Here $\\lambda$ is regularization parameter & $w_i$ are the model coffecients.\n",
    "- If $\\lambda$ is zero we get back Loss function, however if lambda is very large it will add too much weight and it will lead to under-fitting.\n",
    "---\n",
    "**L2 Regularization**\n",
    "- A regression model which uses L2 Regularization is called **Ridge Regression**.\n",
    "- Ridge regression adds \"squared magnitude\" of coefficient as penalty term to the loss function.\n",
    "- It encourages smaller coefficients but does not force them to zero, leading to a more distributed weight structure.\n",
    "- **Formula**:\n",
    "$$ \\text{Loss} + \\lambda \\sum_{i=1}^{n} w_i^2 $$\n",
    "- If $\\lambda$ is zero we get back the Loss function, if $\\lambda$ is very large it will under-feat.\n",
    "- --\n",
    "- Resources:\n",
    "  - [Blog](https://medium.com/towards-data-science/l1-and-l2-regularization-methods-ce25e7fc831c)\n",
    "  - [Notebook](https://github.com/saurabhaloneai/History-of-Deep-Learning/blob/main/02-optimization-and-regularization/01-weight-decay/weightdecay.ipynb)"
   ]
  },
  {
   "cell_type": "code",
   "execution_count": null,
   "id": "f508be26-46ef-4e00-94f1-b3618d0f7dd5",
   "metadata": {},
   "outputs": [],
   "source": []
  }
 ],
 "metadata": {
  "kernelspec": {
   "display_name": "Python 3 (ipykernel)",
   "language": "python",
   "name": "python3"
  },
  "language_info": {
   "codemirror_mode": {
    "name": "ipython",
    "version": 3
   },
   "file_extension": ".py",
   "mimetype": "text/x-python",
   "name": "python",
   "nbconvert_exporter": "python",
   "pygments_lexer": "ipython3",
   "version": "3.10.13"
  }
 },
 "nbformat": 4,
 "nbformat_minor": 5
}
